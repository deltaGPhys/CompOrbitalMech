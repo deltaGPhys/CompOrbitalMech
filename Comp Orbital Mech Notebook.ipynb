{
 "cells": [
  {
   "cell_type": "markdown",
   "metadata": {},
   "source": [
    "<a id='Top'></a>\n",
    "# Independent Study: Computational Orbital Mechanics#\n",
    "Joshua Gates\n",
    "\n",
    "Instructor: Vincent Pisacane\n",
    "\n",
    "Contents:\n",
    "1. [Course Information](#CourseInfo)\n",
    "1. [Weekly Progress](#WeeklyProg)\n"
   ]
  },
  {
   "cell_type": "markdown",
   "metadata": {
    "collapsed": true
   },
   "source": [
    "<a id='CourseInfo'></a>\n",
    "## Course Information##\n",
    "[Top](#Top)\n",
    "### BRIEF COURSE DESCRIPTION ###\n",
    "An important topic in astrodynamics is the solution of boundary value problems with mixed boundary conditions and optimization of an object function. This directed studies course will focus on learning the techniques involved and applying them to a problem in astrodynamics.\n",
    "\n",
    "### LEARNING OBJECTIVES###\n",
    "*\t Understand the fundamentals of selected numerical techniques in the solution of boundary value problems with mixed boundary conditions without and with optimization.\n",
    "* \tApply the techniques to problems in astrodynamics.\n",
    "\n",
    "### COURSE STRUCTURE AND LEARNING RESOURCES TO BE USED ###\n",
    "1. \tDocument the fundamentals of the single shooting technique for boundary value problems with mixed boundary condition without and with optimization. Demonstrate proficiency by application to solution of specific examples. \n",
    "2.  \tDocument the fundamentals of the multiple shooting technique for boundary value problems with mixed boundary condition without and with optimization. Demonstrate proficiency by application to the solution of specific examples. \n",
    "3. \tApply the numerical techniques to a solved problem in astrodynamics to demonstrate proficiency.\n",
    "<a id='Yang'></a>[For example: Yang, et al. “Systematic Direct Approach for Optimizing Continuous-thrust Earth-orbit Transfers.” Chinese Journal of Aeronautics. 22/1 Feb. 2009. http://www.sciencedirect.com/science/article/pii/S1000936108600692\n",
    "    1. Reproduce travel time and trajectory in table 2 and fig. 5\n",
    "     2. Reproduce optimal 12-burn LEO-GEO transfer (table 5, etc.)]\n",
    "4. \tApply the numerical techniques to an original problems in astrodynamics. \n",
    "[For example: Extension and application, using information from Sanchez Cuartielles, et al. “Gravitational capture opportunites for asteroid retrieval missions.” 63rd International Astronautical Congress, 2012. http://strathprints.strath.ac.uk/41127/3/Sanchez_JP_et_al_Pure_Gravitational_capture_opportunities_for_asteroid_retrieval_missions_Oct_2012.pdf\n",
    "     1.Develop trajectory to use L1/L2 gateways to transfer from geocentric orbit to rendezvous with NEO\n",
    "     2.Develop trajectory to bring NEO back through L1/L2 gateway to geocentric orbit]\n",
    "Primary resource used will be MATLAB.\n",
    "\n",
    "### MEETING SCHEDULE ###\n",
    "* Student will commit 6-9 hour per week during semester\n",
    "* Student will maintain a weekly written log of progress\n",
    "* Voice contact with the instructor will be maintained as needed\n",
    "\n",
    "### EXPECTED OUTCOME / PRODUCT ###\n",
    "Document describing:\n",
    "1. \tFundamentals and application of the single shooting technique to boundary value problems with mixed boundary conditions without and with optimization\n",
    "2. \tFundamentals and application of the multiple shooting technique to boundary value problems with mixed boundary conditions without and with optimization\n",
    "3. \tApplication of shooting technique to solved problem in astrodynamics\n",
    "4.\tApplication of shooting technique to a problem in astrodynamics\n",
    "\n",
    "### METHOD OF EVALUATION###\n",
    "Weekly progress reports\n",
    "Final documentation of studies\n",
    "\n"
   ]
  },
  {
   "cell_type": "markdown",
   "metadata": {},
   "source": [
    "<a id='WeeklyProg'></a>\n",
    "## Weekly Progress##\n",
    "[Top](#Top)\n",
    "### Week 1: July 18-23###\n",
    "#### Accomplished####\n",
    "* Set up Jupyter Notebook to hold research, results, and code\n",
    "    * VPython install now works, but you would need Jupyter to run the code, so I am using it for the markdown text and for links to programs hosted at www.glowscript.org\n",
    "* Began to explore shooting method and orbital applications\n",
    "    * Wrote single shooting script to deal with heat flow along a cooling fin: http://www.glowscript.org/#/user/jgates/folder/OrbitalMechanics/program/CoolingFinShooting\n",
    "    * Wrote single shooting script to deal with orbital transfer between 200 km and 600 km (around Earth): http://www.glowscript.org/#/user/jgates/folder/OrbitalMechanics/program/EarthOrbitShooting1\n",
    "    * Wrote single shooting script to find Moon Lagrange point $L_1$ in circular restricted 3-body problem (CR3BP): http://www.glowscript.org/#/user/jgates/folder/OrbitalMechanics/program/OrbitShootingLunarL1\n",
    "    * Wrote single shooting script to find necessary $v_i$ for 200 km halo orbit around $L_1$ in CR3BP - not working yet: http://www.glowscript.org/#/user/jgates/folder/OrbitalMechanics/program/LunarL1HaloOrbitShooting\n",
    "    * Script to investigate solution of halo orbit: http://www.glowscript.org/#/user/jgates/folder/OrbitalMechanics/program/LunarL1HaloOrbitInvestigation\n",
    "\n",
    "#### Sources and References####\n",
    "* Lecture slides on single and multiple shooting: http://www.mech.utah.edu/~pardyjak/me6700/Lect15_BoundEigenvalueProblemsCh27.pdf\n",
    "* Circular Restricted 3-Body Problem: http://ccar.colorado.edu/geryon/CRTBP.html\n",
    "* Lo and Ross, Conference paper on lunar $L_1$ gateway: http://www.gg.caltech.edu/~mwl/publications/papers/lunarGateway.pdf\n",
    "* Koon, Calculating the Halo Orbit (Shooting): https://web.archive.org/web/20060916192723/https://www.cds.caltech.edu/help/uploads/wiki/files/39/lecture_halo_2004.pdf\n",
    "* Powell, Project on traveling to $L_1$, manifolds, etc.: http://ccar.colorado.edu/asen5050/projects/projects_2014/Powell_Sara/\n",
    "* Project on using shooting method to find halo orbit: http://ccar.colorado.edu/asen5050/projects/projects_2012/dinkelk/extension.html\n",
    "* \n",
    "\n",
    "#### Time ####\n",
    "* Approximately 12 hours\n",
    "\n",
    "#### Questions and tasks remaining####\n",
    "* Is the low-thrust continuous thrust maneuver described in [Yang](#Yang) radial, in a constant direction, or something else?\n",
    "* How can I extend my shooting algorithm to multiple shooting? Setting the interim conditions seems OK, but how are the discontinuities reconciled?\n",
    "    * Is the convergence issue with the halo orbit due to insufficient numerical accuracy in the preceding steps ($L_1$ accuracy, $v_i$ accuracy, for example), or a fundamental issue with my shooting process?\n",
    "* Need to fix the CR3BP problem - have to move Earth off of the origin and the moon in a bit, leaving the origin as the barycenter. ...then recalculate \n",
    "* Need to replace binary search algorithm with a secant algorithm\n",
    "    "
   ]
  },
  {
   "cell_type": "code",
   "execution_count": 1,
   "metadata": {
    "collapsed": false
   },
   "outputs": [
    {
     "data": {
      "application/javascript": [
       "require.undef(\"nbextensions/jquery-ui.custom.min\");"
      ],
      "text/plain": [
       "<IPython.core.display.Javascript object>"
      ]
     },
     "metadata": {},
     "output_type": "display_data"
    },
    {
     "data": {
      "application/javascript": [
       "require.undef(\"nbextensions/glow.2.1.min\");"
      ],
      "text/plain": [
       "<IPython.core.display.Javascript object>"
      ]
     },
     "metadata": {},
     "output_type": "display_data"
    },
    {
     "data": {
      "application/javascript": [
       "require.undef(\"nbextensions/glowcomm\");"
      ],
      "text/plain": [
       "<IPython.core.display.Javascript object>"
      ]
     },
     "metadata": {},
     "output_type": "display_data"
    },
    {
     "data": {
      "application/javascript": [
       "require.undef(\"nbextensions/pako.min\");"
      ],
      "text/plain": [
       "<IPython.core.display.Javascript object>"
      ]
     },
     "metadata": {},
     "output_type": "display_data"
    },
    {
     "data": {
      "application/javascript": [
       "require.undef(\"nbextensions/pako_deflate.min\");"
      ],
      "text/plain": [
       "<IPython.core.display.Javascript object>"
      ]
     },
     "metadata": {},
     "output_type": "display_data"
    },
    {
     "data": {
      "application/javascript": [
       "require.undef(\"nbextensions/pako_inflate.min\");"
      ],
      "text/plain": [
       "<IPython.core.display.Javascript object>"
      ]
     },
     "metadata": {},
     "output_type": "display_data"
    },
    {
     "data": {
      "application/javascript": [
       "require([\"nbextensions/glowcomm\"], function(){console.log(\"glowcomm loaded\");})"
      ],
      "text/plain": [
       "<IPython.core.display.Javascript object>"
      ]
     },
     "metadata": {},
     "output_type": "display_data"
    },
    {
     "data": {
      "text/html": [
       "<div id=\"glowscript\" class=\"glowscript\"></div>"
      ],
      "text/plain": [
       "<IPython.core.display.HTML object>"
      ]
     },
     "metadata": {},
     "output_type": "display_data"
    },
    {
     "data": {
      "application/javascript": [
       "window.__context = { glowscript_container: $(\"#glowscript\").removeAttr(\"id\")}"
      ],
      "text/plain": [
       "<IPython.core.display.Javascript object>"
      ]
     },
     "metadata": {},
     "output_type": "display_data"
    }
   ],
   "source": [
    "from math import *\n",
    "from __future__ import division, print_function\n",
    "from vpython import *\n",
    "import numpy as np\n",
    "\n",
    "Tinf = 300 # temp of environment\n",
    "T_0 = 500 # initial temp @ hot end of fin\n",
    "T_1 = 400 # initial temp@ cold end of fin\n",
    "\n",
    "\n",
    "L = 1\n",
    "dx = .1\n",
    "\n",
    "M2 = .1 # constant\n",
    "\n",
    "gK = graph(background=color.white, foreground=color.black, y=0, x=600, width=600,height=200,\n",
    "              title='Temp vs. location', xtitle='Location (m)', ytitle='Temp (K)')\n",
    "Tvsx = gcurve(color=color.red)\n",
    "TvsxDesired = gdots(color = color.blue)\n",
    "TvsxDesired.plot(pos = (0,T_0))\n",
    "TvsxDesired.plot(pos = (L,T_1))\n",
    "\n",
    "gK2 = graph(background=color.white, foreground=color.black, y=200, x=600, width=600,height=200,\n",
    "              title='End error vs. guess', xtitle='Guess (K/m)', ytitle='End Temp (K)')\n",
    "mvsz = gcurve(color=color.red)\n",
    "mvszdots = gdots(color=color.blue)\n",
    "\n",
    "gK3 = graph(background=color.white, foreground=color.black, y=400, x=600, width=600,height=200,\n",
    "              title='Guess evolution', xtitle='n', ytitle='dTdx Guess (K/m)')\n",
    "guessdots = gdots(color=color.blue)\n",
    "final= gcurve(color=color.red)\n",
    "\n",
    "\n",
    "def getTemp(dTdxGuess):\n",
    "    y1 = [T_0] # temp values along bar\n",
    "    y2 = [dTdxGuess] # dTdx values along bar\n",
    "    Tvsx.plot(pos=(0,T_0))\n",
    "    for x in np.arange(dx,L+dx,dx):\n",
    "        rate(100000)\n",
    "        y1dot = -y2[-1]\n",
    "        y2dot = M2*(y1[-1]-Tinf)\n",
    "\n",
    "        y1.append(y1[-1] + y1dot*dx)\n",
    "        y2.append(y2[-1] + y2dot*dx)\n",
    "\n",
    "        Tvsx.plot(pos=(x,y1[-1]))\n",
    "    return(y1[-1])\n",
    "    \n",
    "\n",
    "dTdx1 = 2 # low guess for dTdx at left end (92 is good)\n",
    "dTdx2 = 1000# high guess for dTdx at left end (92 is good)\n",
    "\n",
    "Tend1 = getTemp(dTdx1)\n",
    "guessdots.plot(pos=(0,dTdx1))\n",
    "Tend2 = getTemp(dTdx2)\n",
    "guessdots.plot(pos=(1,dTdx2))\n",
    "n = 2\n",
    " \n",
    "ms = [Tend1,Tend2]\n",
    "guesses = [dTdx1,dTdx2]\n",
    "\n",
    "Tf = T_0\n",
    "\n",
    "while abs(Tf - T_1) > 1e-6:\n",
    "    rate(10000)\n",
    "    newguess = (dTdx1+dTdx2)/2\n",
    "    guesses.append(newguess)\n",
    "    #print(newguess)\n",
    "\n",
    "    Tf = getTemp(newguess)\n",
    "    ms.append(Tf)\n",
    "    \n",
    "    if Tf-T_1>0: #both guesses too high\n",
    "        dTdx1 = newguess\n",
    "        Tend1 = Tf\n",
    "    else:\n",
    "        dTdx2 = newguess\n",
    "        Tend2 = Tf\n",
    "    \n",
    "    mvsz.plot(pos=(newguess,Tf-T_1))\n",
    "    mvszdots.plot(pos=(newguess,Tf-T_1))\n",
    "\n",
    "    guessdots.plot(pos=(n,newguess))\n",
    "    n = n + 1\n",
    "\n",
    "dTdxfinal = newguess\n",
    "final.plot(pos=(0,dTdxfinal))\n",
    "final.plot(pos=(n-1,dTdxfinal))"
   ]
  },
  {
   "cell_type": "code",
   "execution_count": null,
   "metadata": {
    "collapsed": true
   },
   "outputs": [],
   "source": []
  },
  {
   "cell_type": "code",
   "execution_count": null,
   "metadata": {
    "collapsed": true
   },
   "outputs": [],
   "source": []
  }
 ],
 "metadata": {
  "anaconda-cloud": {},
  "kernelspec": {
   "display_name": "VPython",
   "language": "python",
   "name": "vpython"
  },
  "language_info": {
   "codemirror_mode": {
    "name": "ipython",
    "version": 3
   },
   "file_extension": ".py",
   "mimetype": "text/x-python",
   "name": "python",
   "nbconvert_exporter": "python",
   "pygments_lexer": "ipython3",
   "version": "3.5.2"
  }
 },
 "nbformat": 4,
 "nbformat_minor": 0
}
